{
  "cells": [
    {
      "cell_type": "code",
      "source": [
        "from google.colab import drive\n",
        "drive.mount('/content/drive')"
      ],
      "metadata": {
        "colab": {
          "base_uri": "https://localhost:8080/"
        },
        "id": "s0Im9HVW1trz",
        "outputId": "250c354f-d5fb-4f4e-f73a-9f850cc13e64"
      },
      "execution_count": 1,
      "outputs": [
        {
          "output_type": "stream",
          "name": "stdout",
          "text": [
            "Mounted at /content/drive\n"
          ]
        }
      ]
    },
    {
      "cell_type": "code",
      "source": [
        "import sys\n",
        "sys.path.append('/content/drive/MyDrive/Colab Notebooks')"
      ],
      "metadata": {
        "id": "sc9Z1xkC1m1t"
      },
      "execution_count": 2,
      "outputs": []
    },
    {
      "cell_type": "code",
      "execution_count": 4,
      "metadata": {
        "id": "x-FmkuyZ1eHS"
      },
      "outputs": [],
      "source": [
        "import pickle\n",
        "import numpy as np\n",
        "import os, glob\n",
        "import matplotlib.pyplot as plt\n",
        "from feature_extractor import BBResNet18"
      ]
    },
    {
      "cell_type": "markdown",
      "source": [
        "## 7**.Implement the following Classification algorithms:**"
      ],
      "metadata": {
        "id": "_Xev7HggIaWX"
      }
    },
    {
      "cell_type": "code",
      "source": [
        "import numpy as np\n",
        "from numpy import save,load\n",
        "X_aug_feat_norm = load('/content/drive/MyDrive/22111024_69_features_extracted/X_norm_aug_final.npy')\n",
        "Y_aug_train = load('/content/drive/MyDrive/22111024_69_features_extracted/Y_augmented_train.npy')\n",
        "\n",
        "\n",
        "X_feat_train_norm = load('/content/drive/MyDrive/22111024_69_features_extracted/X_norm_train_final.npy')\n",
        "Y_train = load('/content/drive/MyDrive/22111024_69_features_extracted/Y_train.npy')\n",
        "\n",
        "X_feat_test_norm = load( '/content/drive/MyDrive/22111024_69_features_extracted/X_norm_test_final.npy' )\n",
        "Y_test = load( '/content/drive/MyDrive/22111024_69_features_extracted/Y_test.npy' )\n",
        "\n",
        "print('Size of Augmented(Train) Features and Labels : \\t' , X_aug_feat_norm.shape , Y_aug_train.shape)\n",
        "print('Size of Unaugmented(Train) Features and Labels : ' ,X_feat_train_norm.shape , Y_train.shape)\n",
        "print('Size of Test Features and Labels :\\t\\t' ,X_feat_test_norm.shape , Y_test.shape)\n"
      ],
      "metadata": {
        "colab": {
          "base_uri": "https://localhost:8080/"
        },
        "id": "kMTN95I-wupV",
        "outputId": "b98dfe64-bb15-4475-b503-a23a465079af"
      },
      "execution_count": 7,
      "outputs": [
        {
          "output_type": "stream",
          "name": "stdout",
          "text": [
            "Size of Augmented(Train) Features and Labels : \t (100000, 512) (100000,)\n",
            "Size of Unaugmented(Train) Features and Labels :  (50000, 512) (50000,)\n",
            "Size of Test Features and Labels :\t\t (10000, 512) (10000,)\n"
          ]
        }
      ]
    },
    {
      "cell_type": "markdown",
      "source": [
        "# (a) part-1 : SVM classifier on unaugmented data"
      ],
      "metadata": {
        "id": "hoQdR7fkJqEc"
      }
    },
    {
      "cell_type": "code",
      "source": [
        "\n",
        "from sklearn.svm import SVC\n",
        "svm_clf_unaug = SVC(kernel='rbf')\n",
        "\n",
        "# fitting x samples and y classes\n",
        "svm_clf_unaug.fit(X_feat_train_norm,Y_train)\n",
        "\n"
      ],
      "metadata": {
        "id": "INyPm1qxsfm4",
        "colab": {
          "base_uri": "https://localhost:8080/"
        },
        "outputId": "e2b79005-dcfe-4c4b-c9c6-b802c816c595"
      },
      "execution_count": 9,
      "outputs": [
        {
          "output_type": "execute_result",
          "data": {
            "text/plain": [
              "SVC()"
            ]
          },
          "metadata": {},
          "execution_count": 9
        }
      ]
    },
    {
      "cell_type": "markdown",
      "source": [
        "We saved the model in pickle file so that we dont waste time for training again the model"
      ],
      "metadata": {
        "id": "mQCT79NLKF7T"
      }
    },
    {
      "cell_type": "code",
      "source": [
        "import pickle\n",
        "filename = '/content/drive/MyDrive/22111024_69_features_extracted/finalized_modelsvm_unaug.pkl'\n",
        "pickle.dump(svm_clf_unaug, open(filename, 'wb'))"
      ],
      "metadata": {
        "id": "oOyC26eNEnK1"
      },
      "execution_count": 42,
      "outputs": []
    },
    {
      "cell_type": "code",
      "source": [
        "Y_pred_unaug = svm_clf_unaug.predict(X_feat_test_norm)"
      ],
      "metadata": {
        "id": "6A37O2h9tUiU"
      },
      "execution_count": 11,
      "outputs": []
    },
    {
      "cell_type": "code",
      "source": [
        "from sklearn.metrics import accuracy_score\n",
        "# Calculate the accuracy of the model\n",
        "svm_acc_unaug = accuracy_score(Y_test, Y_pred_unaug)\n",
        "print(\"The accuracy of SVM classifier on unaugmented data is \"+str(svm_acc_unaug*100))"
      ],
      "metadata": {
        "colab": {
          "base_uri": "https://localhost:8080/"
        },
        "id": "KuEbLGAwtVvb",
        "outputId": "21dae3db-9148-4d9a-c6dd-03ec4ffedc8a"
      },
      "execution_count": 18,
      "outputs": [
        {
          "output_type": "stream",
          "name": "stdout",
          "text": [
            "The accuracy of SVM classifier on unaugmented data is 78.5\n"
          ]
        }
      ]
    },
    {
      "cell_type": "markdown",
      "source": [
        "# (a) part-2 : SVM classifier on augmented data"
      ],
      "metadata": {
        "id": "qjdbrniOKdT6"
      }
    },
    {
      "cell_type": "code",
      "source": [
        "svm_clf_aug = SVC(kernel='rbf')\n",
        "svm_clf_aug.fit(X_aug_feat_norm ,Y_aug_train )"
      ],
      "metadata": {
        "colab": {
          "base_uri": "https://localhost:8080/"
        },
        "id": "vGJMNDpm0o1E",
        "outputId": "7c576f61-7c40-4584-90bb-08ae4f5332f3"
      },
      "execution_count": 19,
      "outputs": [
        {
          "output_type": "execute_result",
          "data": {
            "text/plain": [
              "SVC()"
            ]
          },
          "metadata": {},
          "execution_count": 19
        }
      ]
    },
    {
      "cell_type": "code",
      "source": [
        "filename = '/content/drive/MyDrive/22111024_69_features_extracted/finalized_modelsvm_aug.pkl'\n",
        "pickle.dump(svm_clf_aug, open(filename, 'wb'))"
      ],
      "metadata": {
        "id": "mXw_jsnrFqel"
      },
      "execution_count": 43,
      "outputs": []
    },
    {
      "cell_type": "code",
      "source": [
        "Y_pred_aug = svm_clf_aug.predict(X_feat_test_norm)"
      ],
      "metadata": {
        "id": "oW1O7eo01g56"
      },
      "execution_count": 20,
      "outputs": []
    },
    {
      "cell_type": "code",
      "source": [
        "svm_acc_aug = accuracy_score(Y_test, Y_pred_aug)\n",
        "print(\"The accuracy of SVM classifier on unaugmented data is \"+ str(svm_acc_aug*100))"
      ],
      "metadata": {
        "colab": {
          "base_uri": "https://localhost:8080/"
        },
        "id": "Jrxg2s4a2A-b",
        "outputId": "42b7a89f-7e04-4723-d2ef-aa6458baf040"
      },
      "execution_count": 21,
      "outputs": [
        {
          "output_type": "stream",
          "name": "stdout",
          "text": [
            "The accuracy of SVM classifier on unaugmented data is 78.7\n"
          ]
        }
      ]
    },
    {
      "cell_type": "markdown",
      "source": [
        "# (b) part-1 : KNN classifier on unaugmented data"
      ],
      "metadata": {
        "id": "vQJF7M-5K3MX"
      }
    },
    {
      "cell_type": "code",
      "source": [
        "# Import necessary modules\n",
        "from sklearn.neighbors import KNeighborsClassifier\n",
        "\n",
        "\n",
        "# Create feature and target arrays\n",
        "X = X_feat_train_norm\n",
        "y = Y_train\n",
        "\n",
        "\n",
        "knn = KNeighborsClassifier(n_neighbors=7)\n",
        "\n",
        "knn.fit(X, y)\n",
        "\n",
        "# Predict on dataset which model has not seen before\n",
        "Y_pred_unaug_knn=knn.predict(X_feat_test_norm)\n"
      ],
      "metadata": {
        "id": "cRVpqFI72gst"
      },
      "execution_count": 22,
      "outputs": []
    },
    {
      "cell_type": "code",
      "source": [
        "filename = '/content/drive/MyDrive/22111024_69_features_extracted/finalized_modelknn_unaug.pkl'\n",
        "pickle.dump(knn, open(filename, 'wb'))"
      ],
      "metadata": {
        "id": "MTE41VoXFx1a"
      },
      "execution_count": 44,
      "outputs": []
    },
    {
      "cell_type": "code",
      "source": [
        "knn_acc_unaug = accuracy_score(Y_test, Y_pred_unaug_knn)\n",
        "print(\"The accuracy of KNN classifier on unaugmented data is \"+ str(knn_acc_unaug*100))"
      ],
      "metadata": {
        "colab": {
          "base_uri": "https://localhost:8080/"
        },
        "id": "M8Q726Nd4WPf",
        "outputId": "af256573-3c58-4970-d8bf-185870b38187"
      },
      "execution_count": 23,
      "outputs": [
        {
          "output_type": "stream",
          "name": "stdout",
          "text": [
            "The accuracy of KNN classifier on unaugmented data is 66.56\n"
          ]
        }
      ]
    },
    {
      "cell_type": "markdown",
      "source": [
        "# (b) part-2 : KNN classifier on augmented data"
      ],
      "metadata": {
        "id": "yuNUWv6lLBFZ"
      }
    },
    {
      "cell_type": "code",
      "source": [
        "# Import necessary modules\n",
        "from sklearn.neighbors import KNeighborsClassifier\n",
        "\n",
        "\n",
        "# Create feature and target arrays\n",
        "X = X_aug_feat_norm\n",
        "y = Y_aug_train\n",
        "\n",
        "\n",
        "knn1 = KNeighborsClassifier(n_neighbors=7)\n",
        "\n",
        "knn1.fit(X, y)\n",
        "\n",
        "# Predict on dataset which model has not seen before\n",
        "y_pred_aug_knn=knn1.predict(X_feat_test_norm)\n"
      ],
      "metadata": {
        "id": "UcCOurM94o9a"
      },
      "execution_count": 45,
      "outputs": []
    },
    {
      "cell_type": "code",
      "source": [
        "filename = '/content/drive/MyDrive/22111024_69_features_extracted/finalized_modelknn_aug.pkl'\n",
        "pickle.dump(knn1, open(filename, 'wb'))"
      ],
      "metadata": {
        "id": "RNk4XT06F_ex"
      },
      "execution_count": 46,
      "outputs": []
    },
    {
      "cell_type": "code",
      "source": [
        "knn_acc_aug = accuracy_score(Y_test, y_pred_aug_knn)\n",
        "print(\"The accuracy of KNN classifier on augmented data is \"+ str(knn_acc_aug*100))"
      ],
      "metadata": {
        "colab": {
          "base_uri": "https://localhost:8080/"
        },
        "id": "sQ8jQdA96XkE",
        "outputId": "e6cf44d4-09dd-48ed-bba2-2099b4029a49"
      },
      "execution_count": 26,
      "outputs": [
        {
          "output_type": "stream",
          "name": "stdout",
          "text": [
            "The accuracy of KNN classifier on augmented data is 66.89\n"
          ]
        }
      ]
    },
    {
      "cell_type": "markdown",
      "source": [
        "# (c) part-1 : Logistic classifier on unaugmented data"
      ],
      "metadata": {
        "id": "f8G6ym40LSjI"
      }
    },
    {
      "cell_type": "code",
      "source": [
        "from sklearn.linear_model import LogisticRegression\n",
        "classifier = LogisticRegression(random_state = 0)\n",
        "\n",
        "X =X_feat_train_norm\n",
        "y = Y_train\n",
        "\n",
        "classifier.fit(X,y)\n",
        "\n",
        "y_pred_unaug_logistic=classifier.predict(X_feat_test_norm)\n"
      ],
      "metadata": {
        "colab": {
          "base_uri": "https://localhost:8080/"
        },
        "id": "Aivp9fPv934K",
        "outputId": "d04154a0-16bd-4273-945d-620419f12213"
      },
      "execution_count": 30,
      "outputs": [
        {
          "output_type": "stream",
          "name": "stderr",
          "text": [
            "/usr/local/lib/python3.8/dist-packages/sklearn/linear_model/_logistic.py:814: ConvergenceWarning: lbfgs failed to converge (status=1):\n",
            "STOP: TOTAL NO. of ITERATIONS REACHED LIMIT.\n",
            "\n",
            "Increase the number of iterations (max_iter) or scale the data as shown in:\n",
            "    https://scikit-learn.org/stable/modules/preprocessing.html\n",
            "Please also refer to the documentation for alternative solver options:\n",
            "    https://scikit-learn.org/stable/modules/linear_model.html#logistic-regression\n",
            "  n_iter_i = _check_optimize_result(\n"
          ]
        }
      ]
    },
    {
      "cell_type": "code",
      "source": [
        "filename = '/content/drive/MyDrive/22111024_69_features_extracted/finalized_modellogistic_unaug.pkl'\n",
        "pickle.dump(classifier, open(filename, 'wb'))"
      ],
      "metadata": {
        "id": "mswHS0CuGfxt"
      },
      "execution_count": 47,
      "outputs": []
    },
    {
      "cell_type": "code",
      "source": [
        "logistic_unacc_aug = accuracy_score(Y_test, y_pred_unaug_logistic)\n",
        "print(\"The accuracy of Logistic classifier on unaugmented data is \"+ str(logistic_unacc_aug*100))"
      ],
      "metadata": {
        "colab": {
          "base_uri": "https://localhost:8080/"
        },
        "id": "yxnOT5-r-AuW",
        "outputId": "91ceaf54-7181-4c1a-bdaf-7c99fb0b8275"
      },
      "execution_count": 31,
      "outputs": [
        {
          "output_type": "stream",
          "name": "stdout",
          "text": [
            "The accuracy of Logistic classifier on unaugmented data is 76.37\n"
          ]
        }
      ]
    },
    {
      "cell_type": "markdown",
      "source": [
        "# (c) part-2 : Logistic classifier on augmented data"
      ],
      "metadata": {
        "id": "Ia4CRCuKL8Gb"
      }
    },
    {
      "cell_type": "code",
      "source": [
        "from sklearn.linear_model import LogisticRegression\n",
        "classifier1 = LogisticRegression(random_state = 0)\n",
        "\n",
        "X = X_aug_feat_norm\n",
        "y = Y_aug_train\n",
        "\n",
        "classifier1.fit(X,y)\n",
        "\n",
        "y_pred_aug_logistic=classifier1.predict(X_feat_test_norm)\n",
        "\n"
      ],
      "metadata": {
        "colab": {
          "base_uri": "https://localhost:8080/"
        },
        "id": "FQlVeMsC83-A",
        "outputId": "f964f426-5585-430c-ecbe-baf5dc16aab4"
      },
      "execution_count": 48,
      "outputs": [
        {
          "output_type": "stream",
          "name": "stderr",
          "text": [
            "/usr/local/lib/python3.8/dist-packages/sklearn/linear_model/_logistic.py:814: ConvergenceWarning: lbfgs failed to converge (status=1):\n",
            "STOP: TOTAL NO. of ITERATIONS REACHED LIMIT.\n",
            "\n",
            "Increase the number of iterations (max_iter) or scale the data as shown in:\n",
            "    https://scikit-learn.org/stable/modules/preprocessing.html\n",
            "Please also refer to the documentation for alternative solver options:\n",
            "    https://scikit-learn.org/stable/modules/linear_model.html#logistic-regression\n",
            "  n_iter_i = _check_optimize_result(\n"
          ]
        }
      ]
    },
    {
      "cell_type": "code",
      "source": [
        "filename = '/content/drive/MyDrive/22111024_69_features_extracted/finalized_modellogistic_aug.pkl'\n",
        "pickle.dump(classifier1, open(filename, 'wb'))"
      ],
      "metadata": {
        "id": "UeMHFRwPG5xU"
      },
      "execution_count": 49,
      "outputs": []
    },
    {
      "cell_type": "code",
      "source": [
        "logistic_acc_aug = accuracy_score(Y_test, y_pred_aug_logistic)\n",
        "print(\"The accuracy of Logistic classifier on augmented data is \"+ str(logistic_acc_aug*100))"
      ],
      "metadata": {
        "colab": {
          "base_uri": "https://localhost:8080/"
        },
        "id": "K9eGf7rK9jyD",
        "outputId": "02607b6f-7f6b-4439-c322-539aa2e0153a"
      },
      "execution_count": 50,
      "outputs": [
        {
          "output_type": "stream",
          "name": "stdout",
          "text": [
            "The accuracy of Logistic classifier on augmented data is 75.66000000000001\n"
          ]
        }
      ]
    },
    {
      "cell_type": "markdown",
      "source": [
        "# (d) part-1 : Decision Tree classifier on unaugmented data"
      ],
      "metadata": {
        "id": "OtYwjA5iMVDK"
      }
    },
    {
      "cell_type": "code",
      "source": [
        "from sklearn.tree import DecisionTreeClassifier\n",
        "from sklearn.metrics import accuracy_score\n",
        "from sklearn.metrics import classification_report\n",
        "\n",
        " # Separating the target variable\n",
        "X =X_feat_train_norm\n",
        "y =Y_train\n",
        " \n",
        "\n",
        "\t\n",
        "dtree = DecisionTreeClassifier()\n",
        "dtree = dtree.fit(X, y)"
      ],
      "metadata": {
        "id": "Pe6yQfxy--ha"
      },
      "execution_count": 34,
      "outputs": []
    },
    {
      "cell_type": "code",
      "source": [
        "y_pred_unaug_dtree=classifier.predict(X_feat_test_norm)"
      ],
      "metadata": {
        "id": "lw_ItfDCCM1_"
      },
      "execution_count": 36,
      "outputs": []
    },
    {
      "cell_type": "code",
      "source": [
        "dtree_acc_unaug = accuracy_score(Y_test, y_pred_unaug_dtree)\n",
        "print(\"The accuracy of Decision Tree classifier on unaugmented data is \"+ str(dtree_acc_unaug*100))"
      ],
      "metadata": {
        "colab": {
          "base_uri": "https://localhost:8080/"
        },
        "id": "sE_eij6-Cl7m",
        "outputId": "f1072063-4dea-4c60-9368-ccb0cc02f18c"
      },
      "execution_count": 37,
      "outputs": [
        {
          "output_type": "stream",
          "name": "stdout",
          "text": [
            "The accuracy of Decision Tree classifier on unaugmented data is 76.37\n"
          ]
        }
      ]
    },
    {
      "cell_type": "code",
      "source": [
        "filename = '/content/drive/MyDrive/22111024_69_features_extracted/finalized_modeldtree_unaug.pkl'\n",
        "pickle.dump(dtree, open(filename, 'wb'))"
      ],
      "metadata": {
        "id": "d0Sr_WvGHPwO"
      },
      "execution_count": 51,
      "outputs": []
    },
    {
      "cell_type": "markdown",
      "source": [
        "# (d) part-2 : Decision Tree classifier on augmented data"
      ],
      "metadata": {
        "id": "69A_EkJFMfay"
      }
    },
    {
      "cell_type": "code",
      "source": [
        "from sklearn.tree import DecisionTreeClassifier\n",
        "from sklearn.metrics import accuracy_score\n",
        "from sklearn.metrics import classification_report\n",
        "\n",
        " # Separating the target variable\n",
        "X = X_aug_feat_norm\n",
        "y = Y_aug_train\n",
        " \n",
        "\n",
        "\t\n",
        "dtree1 = DecisionTreeClassifier()\n",
        "dtree1 = dtree1.fit(X, y)"
      ],
      "metadata": {
        "id": "V6Zf2MAwDK9Y"
      },
      "execution_count": 38,
      "outputs": []
    },
    {
      "cell_type": "code",
      "source": [
        "y_pred_aug_dtree=classifier.predict(X_feat_test_norm)"
      ],
      "metadata": {
        "id": "IeZvyTypDllS"
      },
      "execution_count": 39,
      "outputs": []
    },
    {
      "cell_type": "code",
      "source": [
        "dtree_acc_aug = accuracy_score(Y_test, y_pred_aug_dtree)\n",
        "print(\"The accuracy of Decision Tree classifier on augmented data is \"+ str(dtree_acc_aug*100))"
      ],
      "metadata": {
        "colab": {
          "base_uri": "https://localhost:8080/"
        },
        "id": "DJjNmljSDqze",
        "outputId": "428eab96-1017-4c71-dfb7-dfe1074e3668"
      },
      "execution_count": 41,
      "outputs": [
        {
          "output_type": "stream",
          "name": "stdout",
          "text": [
            "The accuracy of Decision Tree classifier on augmented data is 76.37\n"
          ]
        }
      ]
    },
    {
      "cell_type": "code",
      "source": [
        "filename = '/content/drive/MyDrive/22111024_69_features_extracted/finalized_modeldtree_aug.pkl'\n",
        "pickle.dump(dtree1, open(filename, 'wb'))"
      ],
      "metadata": {
        "id": "w9EiEh2jHbFg"
      },
      "execution_count": 52,
      "outputs": []
    }
  ],
  "metadata": {
    "colab": {
      "provenance": []
    },
    "kernelspec": {
      "display_name": "Python 3",
      "name": "python3"
    },
    "language_info": {
      "name": "python"
    },
    "accelerator": "GPU",
    "gpuClass": "standard"
  },
  "nbformat": 4,
  "nbformat_minor": 0
}